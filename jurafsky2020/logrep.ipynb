{
 "cells": [
  {
   "cell_type": "markdown",
   "metadata": {
    "slideshow": {
     "slide_type": "slide"
    }
   },
   "source": [
    "# Mondatjelentés logikai reprezentációja\n",
    "\n",
    "---\n",
    "\n",
    "(2020. 04. 17.)\n",
    "\n",
    "Mittelholcz Iván"
   ]
  },
  {
   "cell_type": "markdown",
   "metadata": {
    "slideshow": {
     "slide_type": "slide"
    }
   },
   "source": [
    "# Tartalom\n",
    "\n",
    "1. Tudásbázis alapú rendszerek\n",
    "1. Elsőrendű logika\n",
    "1. Események, állapotok, idő\n",
    "1. Ontológia"
   ]
  },
  {
   "cell_type": "markdown",
   "metadata": {
    "slideshow": {
     "slide_type": "slide"
    }
   },
   "source": [
    "# 1.1. Cél\n",
    "\n",
    "Hogyan építsünk étteremajánló rendszert? Hogyan építsünk tudásbázis alapú rendszert?\n",
    "\n",
    "- *Van a Babérban vega kaja?*\n",
    "- *Nincs, soha nem is volt!*\n",
    "\n",
    "![kb](img/kb1.png)"
   ]
  },
  {
   "cell_type": "markdown",
   "metadata": {
    "slideshow": {
     "slide_type": "subslide"
    }
   },
   "source": [
    "# 1.2. Hogyan működik?\n",
    "\n",
    "- Reprezentáljuk a világot\n",
    "    - a *Babér* egy étterem\n",
    "    - az éttermekben ételeket szolgálnak fel\n",
    "    - a *vega* az ételek egy tulajdonsága\n",
    "    - a *Babérban* nincs ilyen tulajdonságú étel, stb.\n",
    "- Reprezentáljuk a nyelvi inputot\n",
    "    - A Babér nevű étteremben van-e vega tulajdonságú étel?\n",
    "- A világot és a nyelvi inputot ugyanabban a rendszerben ábrázoljuk\n",
    "    - kérdés $\\to$ kijelentés\n",
    "    - kijelentés keresése a tudásbázisban\n",
    "        - ha benne van: *Igen* a válasz\n",
    "        - ha nincs benne: *Nem* vagy *Nem tudom* a válasz"
   ]
  },
  {
   "cell_type": "markdown",
   "metadata": {
    "slideshow": {
     "slide_type": "subslide"
    }
   },
   "source": [
    "# 1.3. A reprezentációval szembeni követelmények\n",
    "\n",
    "- *Többértelműség*: A nyelvi input lehet többértelmű, a reprezentáció nem. Ugyanahhoz a nyelvi inputhoz több (egyértelmű) reprezentáció tartozhat $\\to$ dönteni kell.\n",
    "- *Kanonikus forma*: A fenti fordítottja, ugyanahhoz a reprezentációhoz több nyelvi input is tartozhat. Az alternatív megfogalmazásokat mind ugyanarra a reprezentációra kell fordítani.\n",
    "- *Következtetés*: A tudásbázisban nem lehet minden kijelentést előre felsorolni, képes kell legyen általános szabályokból egyedi esetekre következtetni.\n",
    "- *Kifejezőkészség*: minél erősebb reprezentációs rendszert használunk, annál több nyelvi inputhoz tudunk reprezentációt rendelni."
   ]
  },
  {
   "cell_type": "markdown",
   "metadata": {
    "slideshow": {
     "slide_type": "subslide"
    }
   },
   "source": [
    "# 1.4. Modell\n",
    "\n",
    "- Nem az egész világot reprezentáljuk, csak a minket érdeklő részét.\n",
    "- Halmazelméleti eszközök:\n",
    "    - domén, vagy *(tárgyalási) univerzum* ($\\mathcal D$)\n",
    "    - objektumok, mint a domén elemei ($x \\in \\mathcal D$)\n",
    "    - tulajdonságok, mint a domén részhalmazai ($P \\subseteq {\\mathcal D}$)\n",
    "    - relációk, mint a domén elemeiből képzett rendezett *n*-esek ($R= \\lbrace <a, b>, <a, c>, ...\\rbrace $)\n",
    "- Interpretáció: leképezés a reprezentációs nyelvünk elemeiről a modellre"
   ]
  },
  {
   "cell_type": "markdown",
   "metadata": {
    "slideshow": {
     "slide_type": "slide"
    }
   },
   "source": [
    "# 2. First-Order Logic\n",
    "\n",
    "<!-- ![fol](https://mir-s3-cdn-cf.behance.net/project_modules/disp/0bfacc26708351.563593f43c3a5.jpg) -->\n",
    "![fol](https://c2.staticflickr.com/8/7656/17109930569_285510d09e_b.jpg)"
   ]
  },
  {
   "cell_type": "markdown",
   "metadata": {
    "slideshow": {
     "slide_type": "subslide"
    }
   },
   "source": [
    "# 2.1. Alapfogalmak\n",
    "\n",
    "- mi a logika?\n",
    "- szintazis?\n",
    "- szemantika?\n",
    "- szemantikai értékek?\n",
    "- extenzionális vs intenzionális logika?\n",
    "- nullad rendű logika?\n",
    "- elsőrendű logika?\n",
    "- magasabb rendű logikák?"
   ]
  },
  {
   "cell_type": "markdown",
   "metadata": {
    "slideshow": {
     "slide_type": "subslide"
    }
   },
   "source": [
    "# 2.2. A FOL elemei\n",
    "\n",
    "- *term*\n",
    "    - *konstans* (név)\n",
    "        - pl. *Babér étterem*, *Ádám*, stb.\n",
    "    - *függvény* (névfunktor, olyan függvény, ami névből nevet képez)\n",
    "        - pl. négyzetreemelés\n",
    "    - *változó* (csak $\\cal D$ elemei felett)\n",
    "- *logikai művelet* (igazságfüggvény vagy mondatfunktor, ami mondatból mondatot képez): *konjunkció* ($\\land$), *alternáció* ($\\lor$), *kondícionális* ($\\to$), *negáció* ($\\neg$)\n",
    "- *predikátum*: tulajdonságok, relációk (olyan függvény, ami *term*ből mondatot képez)\n",
    "- *kvantor*: egzisztánciális kvantor ($\\exists$), univerzális kvantor ($\\forall$), változót köt le"
   ]
  },
  {
   "cell_type": "markdown",
   "metadata": {
    "slideshow": {
     "slide_type": "subslide"
    }
   },
   "source": [
    "# 2.3. Formula (nyelvtan)\n",
    "\n",
    "\n",
    "- *atomi formula*: $Predicatum(term, ...)$, pl. $Piros(x)$\n",
    "- *Formula mondatfunktor Formula*, pl. $\\neg Pottyos(l) \\land Piros(l)$\n",
    "- *(Formula)*\n",
    "- *Kvantor változó Formula*: $\\forall x (Hollo(x) \\to Fekete(x))$\n",
    "\n",
    "Az így definiált formulák egy elsőrendű logikai nyelv jólformált kifejezései."
   ]
  },
  {
   "cell_type": "markdown",
   "metadata": {
    "slideshow": {
     "slide_type": "subslide"
    }
   },
   "source": [
    "# 2.4.  Szemantika\n",
    "\n",
    "Igaz-e egy állítás?\n",
    "\n",
    "1. Interpretálunk (az állítás nemlogikai elemeihez hozzárendeljük a modell elemeit)\n",
    "2. A logikai elemek alapján ezekből \"kiszámoljuk\" az állítás igazságértékét\n",
    "\n",
    "Példák:\n",
    "\n",
    "- $Ember(szokratesz)$\n",
    "- $\\forall x (Ember(x) \\to Halando(x))$"
   ]
  },
  {
   "cell_type": "markdown",
   "metadata": {
    "slideshow": {
     "slide_type": "subslide"
    }
   },
   "source": [
    "# 2.5. Következtetés\n",
    "\n",
    "*Rezolúció*: mindenre jó, de számításigényes\n",
    "\n",
    "*Modus ponens*: nem lehet vele minden lehetséges következtetést levonni, viszont hatékonyan implementálható, pl.\n",
    "\n",
    "$$Ember(szokratesz) \\\\ \\forall x (Ember(x) \\to Halando(x)) \\\\  \\Rightarrow Halando(szokratesz)$$\n",
    "\n",
    "Két stratégia a *modus ponens* használatára:\n",
    "\n",
    "- *előre láncolás*: ha bejön egy új infó, minden lehetséges új következtetést levonunk és ezeket eltároljuk a tudásbázisban. Ha kérdés jön, csak ezekben az eltárolt állításokban kell keresni.\n",
    "- *hátra láncolás*: csak az új infót tároljuk el. Ha olyan állításra jön kérdés, ami nincs benne expliciten a tudásbázisban, akkor olyan kondicionálist keresünk, aminek az utótagja releváns. Az előtaghoz pedig újabb kondícionális, amíg meg nincs közvetlenül."
   ]
  },
  {
   "cell_type": "markdown",
   "metadata": {
    "slideshow": {
     "slide_type": "slide"
    }
   },
   "source": [
    "# Köszönöm a figyelmet!"
   ]
  }
 ],
 "metadata": {
  "celltoolbar": "Slideshow",
  "kernelspec": {
   "display_name": "Python 3",
   "language": "python",
   "name": "python3"
  },
  "language_info": {
   "codemirror_mode": {
    "name": "ipython",
    "version": 3
   },
   "file_extension": ".py",
   "mimetype": "text/x-python",
   "name": "python",
   "nbconvert_exporter": "python",
   "pygments_lexer": "ipython3",
   "version": "3.7.6"
  }
 },
 "nbformat": 4,
 "nbformat_minor": 2
}
