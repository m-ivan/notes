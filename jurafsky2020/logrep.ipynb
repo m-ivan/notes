{
 "cells": [
  {
   "cell_type": "markdown",
   "metadata": {
    "slideshow": {
     "slide_type": "slide"
    }
   },
   "source": [
    "# Mondatjelentés logikai reprezentációja\n",
    "\n",
    "---\n",
    "\n",
    "(2020. 04. 17.)\n",
    "\n",
    "Mittelholcz Iván"
   ]
  },
  {
   "cell_type": "markdown",
   "metadata": {
    "slideshow": {
     "slide_type": "slide"
    }
   },
   "source": [
    "# Tartalom\n",
    "\n",
    "1. Tudásbázis alapú rendszerek\n",
    "1. Elsőrendű logika\n",
    "1. Események, állapotok, idő\n",
    "1. Ontológia"
   ]
  },
  {
   "cell_type": "markdown",
   "metadata": {
    "slideshow": {
     "slide_type": "slide"
    }
   },
   "source": [
    "# 1. Tudásalapú rendszerek\n",
    "\n",
    "Hogyan építsünk étteremajánló rendszert? Hogyan építsünk tudásbázis alapú rendszert?\n",
    "\n",
    "- *Van a Babérban vega kaja?*\n",
    "- *Nincs, soha nem is volt!*\n",
    "\n",
    "![kb](img/kb1.png)"
   ]
  },
  {
   "cell_type": "markdown",
   "metadata": {
    "slideshow": {
     "slide_type": "subslide"
    }
   },
   "source": [
    "# 1.1. Hogyan működik?\n",
    "\n",
    "- Reprezentáljuk a világot\n",
    "    - a *Babér* egy étterem\n",
    "    - az éttermekben ételeket szolgálnak fel\n",
    "    - a *vega* az ételek egy tulajdonsága\n",
    "    - a *Babérban* nincs ilyen tulajdonságú étel, stb.\n",
    "- Reprezentáljuk a nyelvi inputot\n",
    "    - A Babér nevű étteremben van-e vega tulajdonságú étel?\n",
    "- A világot és a nyelvi inputot ugyanabban a rendszerben ábrázoljuk\n",
    "    - kérdés $\\to$ kijelentés\n",
    "    - kijelentés keresése a tudásbázisban\n",
    "        - ha benne van: *Igen* a válasz\n",
    "        - ha nincs benne: *Nem* vagy *Nem tudom* a válasz"
   ]
  },
  {
   "cell_type": "markdown",
   "metadata": {
    "slideshow": {
     "slide_type": "subslide"
    }
   },
   "source": [
    "# 1.2. A reprezentációval szembeni követelmények\n",
    "\n",
    "- *Többértelműség*: A nyelvi input lehet többértelmű, a reprezentáció nem. Ugyanahhoz a nyelvi inputhoz több (egyértelmű) reprezentáció tartozhat $\\to$ dönteni kell.\n",
    "- *Kanonikus forma*: A fenti fordítottja, ugyanahhoz a reprezentációhoz több nyelvi input is tartozhat. Az alternatív megfogalmazásokat mind ugyanarra a reprezentációra kell fordítani.\n",
    "- *Következtetés*: A tudásbázisban nem lehet minden kijelentést előre felsorolni, képes kell legyen általános szabályokból egyedi esetekre következtetni.\n",
    "- *Kifejezőkészség*: minél erősebb reprezentációs rendszert használunk, annál több nyelvi inputhoz tudunk reprezentációt rendelni."
   ]
  },
  {
   "cell_type": "markdown",
   "metadata": {
    "slideshow": {
     "slide_type": "subslide"
    }
   },
   "source": [
    "# 1.3. Modell\n",
    "\n",
    "- Nem az egész világot reprezentáljuk, csak a minket érdeklő részét.\n",
    "- Halmazelméleti eszközök:\n",
    "    - domén, vagy *(tárgyalási) univerzum* ($\\mathcal D$)\n",
    "    - objektumok, mint a domén elemei ($x \\in \\mathcal D$)\n",
    "    - tulajdonságok, mint a domén részhalmazai ($P \\subseteq {\\mathcal D}$)\n",
    "    - relációk, mint a domén elemeiből képzett rendezett *n*-esek ($R= \\lbrace <a, b>, <a, c>, ...\\rbrace $)\n",
    "- Interpretáció: leképezés a reprezentációs nyelvünk elemeiről a modellre"
   ]
  },
  {
   "cell_type": "markdown",
   "metadata": {
    "slideshow": {
     "slide_type": "slide"
    }
   },
   "source": [
    "# 2. First-Order Logic\n",
    "\n",
    "<!-- ![fol](https://mir-s3-cdn-cf.behance.net/project_modules/disp/0bfacc26708351.563593f43c3a5.jpg) -->\n",
    "![fol](https://c2.staticflickr.com/8/7656/17109930569_285510d09e_b.jpg)"
   ]
  },
  {
   "cell_type": "markdown",
   "metadata": {
    "slideshow": {
     "slide_type": "skip"
    }
   },
   "source": [
    "# 2.1. Alapfogalmak\n",
    "\n",
    "- mi a logika?\n",
    "- szintazis?\n",
    "- szemantika?\n",
    "- szemantikai értékek?\n",
    "- extenzionális vs intenzionális logika?\n",
    "- nullad rendű logika?\n",
    "- elsőrendű logika?\n",
    "- magasabb rendű logikák?"
   ]
  },
  {
   "cell_type": "markdown",
   "metadata": {
    "slideshow": {
     "slide_type": "subslide"
    }
   },
   "source": [
    "# 2.2. A FOL elemei\n",
    "\n",
    "- *term*\n",
    "    - *konstans* (név)\n",
    "        - pl. *Babér étterem*, *Ádám*, stb.\n",
    "    - *függvény* (névfunktor, olyan függvény, ami névből nevet képez)\n",
    "        - pl. négyzetreemelés\n",
    "    - *változó* (csak $\\cal D$ elemei felett)\n",
    "- *logikai művelet* (igazságfüggvény vagy mondatfunktor, ami mondatból mondatot képez): *konjunkció* ($\\land$), *alternáció* ($\\lor$), *kondícionális* ($\\to$), *negáció* ($\\neg$)\n",
    "- *predikátum*: tulajdonságok, relációk (olyan függvény, ami *term*ből mondatot képez)\n",
    "- *kvantor*: egzisztánciális kvantor ($\\exists$), univerzális kvantor ($\\forall$), változót köt le"
   ]
  },
  {
   "cell_type": "markdown",
   "metadata": {
    "slideshow": {
     "slide_type": "subslide"
    }
   },
   "source": [
    "# 2.3. Formula (nyelvtan)\n",
    "\n",
    "\n",
    "- *atomi formula*: $Predicatum(term, ...)$, pl. $Piros(x)$\n",
    "- *Formula mondatfunktor Formula*, pl. $\\neg Pottyos(l) \\land Piros(l)$\n",
    "- *(Formula)*\n",
    "- *Kvantor változó Formula*: $\\forall x (Hollo(x) \\to Fekete(x))$\n",
    "\n",
    "Az így definiált formulák egy elsőrendű logikai nyelv jólformált kifejezései."
   ]
  },
  {
   "cell_type": "markdown",
   "metadata": {
    "slideshow": {
     "slide_type": "subslide"
    }
   },
   "source": [
    "# 2.4.  Szemantika\n",
    "\n",
    "Igaz-e egy állítás?\n",
    "\n",
    "1. Interpretálunk (az állítás nemlogikai elemeihez hozzárendeljük a modell elemeit)\n",
    "2. A logikai elemek alapján ezekből \"kiszámoljuk\" az állítás igazságértékét\n",
    "\n",
    "Példák:\n",
    "\n",
    "- $Ember(szokratesz)$\n",
    "- $\\forall x (Ember(x) \\to Halando(x))$"
   ]
  },
  {
   "cell_type": "markdown",
   "metadata": {
    "slideshow": {
     "slide_type": "subslide"
    }
   },
   "source": [
    "# 2.5. Következtetés\n",
    "\n",
    "*Rezolúció*: mindenre jó, de számításigényes\n",
    "\n",
    "*Modus ponens*: nem lehet vele minden lehetséges következtetést levonni, viszont hatékonyan implementálható, pl.\n",
    "\n",
    "$$Ember(szokratesz) \\\\ \\forall x (Ember(x) \\to Halando(x)) \\\\  \\Rightarrow Halando(szokratesz)$$\n",
    "\n",
    "Két stratégia a *modus ponens* használatára:\n",
    "\n",
    "- *előre láncolás*: ha bejön egy új infó, minden lehetséges új következtetést levonunk és ezeket eltároljuk a tudásbázisban. Ha kérdés jön, csak ezekben az eltárolt állításokban kell keresni.\n",
    "- *hátra láncolás*: csak az új infót tároljuk el. Ha olyan állításra jön kérdés, ami nincs benne expliciten a tudásbázisban, akkor olyan kondicionálist keresünk, aminek az utótagja releváns. Az előtaghoz pedig újabb kondícionális, amíg meg nincs közvetlenül."
   ]
  },
  {
   "cell_type": "markdown",
   "metadata": {
    "slideshow": {
     "slide_type": "slide"
    }
   },
   "source": [
    "# 3. Események és idő"
   ]
  },
  {
   "cell_type": "markdown",
   "metadata": {
    "slideshow": {
     "slide_type": "subslide"
    }
   },
   "source": [
    "# 3.1. Aritás probléma\n",
    "\n",
    "1. *Iván eszik.* -- $Eszik_1(ivan)$\n",
    "1. *Iván szendvicset eszik.* -- $Eszik_2(ivan, szendvics)$\n",
    "1. *Iván az asztalnál eszik.* -- $Eszik_3(ivan, asztal)$\n",
    "1. *Iván szendvicset eszik az asztalnál.* -- $Eszik_4(ivan, szendvics, asztal)$\n",
    "1. *Iván szendvicset eszik ebédre.* -- $Eszik_5(ivan, szendvics, ebéd)$\n",
    "1. *Iván szendvicset eszik az asztalnál ebédre.* -- $Eszik_6(ivan, szendvics, asztal, ebed)$\n",
    "\n",
    "Hogyan lehet az első rendben megoldani, hogy ne kelljen sok predikátumot bevezetni ugyan arra?\n"
   ]
  },
  {
   "cell_type": "markdown",
   "metadata": {
    "slideshow": {
     "slide_type": "subslide"
    }
   },
   "source": [
    "# 3.2. *neo-davidsoniánus eseményreprezentáció*\n",
    "\n",
    "A predikátumok aritása rögzített, de a formalizálás egésze nem az. $\\to$ Szétszedhetjük az információkat külön állításokba.\n",
    "\n",
    "Esemény változó: $\\exists e(Eves(e))$"
   ]
  },
  {
   "cell_type": "markdown",
   "metadata": {
    "slideshow": {
     "slide_type": "fragment"
    }
   },
   "source": [
    "*Iván eszik.*"
   ]
  },
  {
   "cell_type": "markdown",
   "metadata": {
    "slideshow": {
     "slide_type": "fragment"
    }
   },
   "source": [
    "$\\exists e(Eves(e) \\land Evoje(e, ivan))$"
   ]
  },
  {
   "cell_type": "markdown",
   "metadata": {
    "slideshow": {
     "slide_type": "fragment"
    }
   },
   "source": [
    "*Iván szendvicset eszik.*"
   ]
  },
  {
   "cell_type": "markdown",
   "metadata": {
    "slideshow": {
     "slide_type": "fragment"
    }
   },
   "source": [
    "$\\exists e(Evés(e) \\land Evoje(e, ivan) \\land Evettje(e, szendvics))$"
   ]
  },
  {
   "cell_type": "markdown",
   "metadata": {
    "slideshow": {
     "slide_type": "subslide"
    }
   },
   "source": [
    "# 3.2. folytatás\n",
    "\n",
    "*Iván az asztalnál eszik.*"
   ]
  },
  {
   "cell_type": "markdown",
   "metadata": {
    "slideshow": {
     "slide_type": "fragment"
    }
   },
   "source": [
    "$\\exists e(Evés(e) \\land Evoje(e, ivan) \\land Helye(e, asztal))$"
   ]
  },
  {
   "cell_type": "markdown",
   "metadata": {
    "slideshow": {
     "slide_type": "fragment"
    }
   },
   "source": [
    "*Iván szendvicset eszik az asztalnál.*"
   ]
  },
  {
   "cell_type": "markdown",
   "metadata": {
    "slideshow": {
     "slide_type": "fragment"
    }
   },
   "source": [
    "$\\exists e(Evés(e) \\land Evoje(e, ivan) \\land Evettje(e, szendvics) \\land Helye(e, asztal))$"
   ]
  },
  {
   "cell_type": "markdown",
   "metadata": {
    "slideshow": {
     "slide_type": "subslide"
    }
   },
   "source": [
    "# 3.3. Idő\n",
    "\n",
    "Rendes *temporális* logika: új mondatoperátorok, bonyolult, nem kell.\n",
    "\n",
    "Hogyan lehet első rendben valahogy mégis reprezentálni az események idejét és a változást?"
   ]
  },
  {
   "cell_type": "markdown",
   "metadata": {
    "slideshow": {
     "slide_type": "fragment"
    }
   },
   "source": [
    "Eseményreprezentáció kiterjesztése új, idői predikátumokkal.\n",
    "\n",
    "- $Tartama(esemeny, intervallum)$\n",
    "- $Resze(intervallum, idopont)$\n",
    "- $Vege(intervallum, idopont)$\n",
    "- $Megelozi(idopont_1, idopont_2)$"
   ]
  },
  {
   "cell_type": "markdown",
   "metadata": {
    "slideshow": {
     "slide_type": "subslide"
    }
   },
   "source": [
    "# 3.4. Példák az időreprezentációra\n",
    "\n",
    "*Iván evett.*"
   ]
  },
  {
   "cell_type": "markdown",
   "metadata": {
    "slideshow": {
     "slide_type": "fragment"
    }
   },
   "source": [
    "$$\\exists e, i, n(Eves(e) \\land Evoje(e, ivan) \\land Tartama(e, i), \\land Vege(i, n) \\land Megelozi(n, now))$$"
   ]
  },
  {
   "cell_type": "markdown",
   "metadata": {
    "slideshow": {
     "slide_type": "fragment"
    }
   },
   "source": [
    "*Iván eszik.*"
   ]
  },
  {
   "cell_type": "markdown",
   "metadata": {
    "slideshow": {
     "slide_type": "fragment"
    }
   },
   "source": [
    "$$\\exists e, i, n(Eves(e) \\land Evoje(e, ivan) \\land Tartama(e, i), \\land Resze(i, now))$$"
   ]
  },
  {
   "cell_type": "markdown",
   "metadata": {
    "slideshow": {
     "slide_type": "slide"
    }
   },
   "source": [
    "# 4. Leíró logika\n",
    "\n",
    "- tudásreprezentációs nyelv\n",
    "- kifejezőereje erősebb a nulladrendű, de gyengébb az első rendű logikáénál\n",
    "- ami következtetést le lehet vonni, azt hatékonyan le lehet vonni\n",
    "- saját jelölés rendszere van (halmazelméletre és elsőrendű logikára emlékeztető)"
   ]
  },
  {
   "cell_type": "markdown",
   "metadata": {
    "slideshow": {
     "slide_type": "subslide"
    }
   },
   "source": [
    "# 4.1. Alapfogalmak\n",
    "\n",
    "- vannak:\n",
    "    - individuumok\n",
    "    - unáris predikátumok (*concept*)\n",
    "    - bináris predikátumok (*role*)\n",
    "- terminológia: a kategóriák (fogalmak) összessége\n",
    "- TBox: fogalmakra vonatkozó tények ($Ember \\subseteq Halando$, avagy $\\forall x (Ember(x) \\to Halando(x))$)\n",
    "- ABox: individuumokra vonatkozó tények ($Ember(szokratesz)$)\n"
   ]
  },
  {
   "cell_type": "markdown",
   "metadata": {
    "slideshow": {
     "slide_type": "subslide"
    }
   },
   "source": [
    "# 4.2. Hierarcihia\n",
    "\n",
    "1. explicit hierarchia bővítés: egy fogalmat közvetlenül beteszünk egy másik alá (részhalmaz, *subsumption*)\n",
    "    - ez csak cimkézés, nincs benne, hogy a felosztás teljes-e vagy hogy diszjunkt-e\n",
    "1. implicit hierarchia bővítés: egy fogalomnak megadjuk a definícióját (szükséges és elégséges feltételek)\n",
    "    - ebben már meg lehet fogalmazni kritériumokat a felosztásra is"
   ]
  },
  {
   "cell_type": "markdown",
   "metadata": {
    "slideshow": {
     "slide_type": "subslide"
    }
   },
   "source": [
    "# 4.3. Következtetés\n",
    "\n",
    "Két fajta:\n",
    "\n",
    "1. Magában foglalás: egy fogalom magában foglal-e egy másikat\n",
    "1. Példánya-e: egy individuum egy fogalom alá tartozik-e"
   ]
  },
  {
   "cell_type": "markdown",
   "metadata": {
    "slideshow": {
     "slide_type": "slide"
    }
   },
   "source": [
    "# Köszönöm a figyelmet!"
   ]
  }
 ],
 "metadata": {
  "celltoolbar": "Slideshow",
  "kernelspec": {
   "display_name": "Python 3",
   "language": "python",
   "name": "python3"
  },
  "language_info": {
   "codemirror_mode": {
    "name": "ipython",
    "version": 3
   },
   "file_extension": ".py",
   "mimetype": "text/x-python",
   "name": "python",
   "nbconvert_exporter": "python",
   "pygments_lexer": "ipython3",
   "version": "3.7.7"
  }
 },
 "nbformat": 4,
 "nbformat_minor": 2
}
