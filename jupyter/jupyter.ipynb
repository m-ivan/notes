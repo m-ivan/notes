{
 "cells": [
  {
   "cell_type": "markdown",
   "metadata": {},
   "source": [
    "# Notebook"
   ]
  },
  {
   "cell_type": "markdown",
   "metadata": {},
   "source": [
    "## Tartalom"
   ]
  },
  {
   "cell_type": "markdown",
   "metadata": {},
   "source": [
    "* [1. Infók](#1.-Infók)\n",
    "* [2. Telepítés](#2.-Telepítés)\n",
    "* [3. Indítás](#3.-Indítás)\n",
    "* [4. Alapok](#4.-Alapok)\n",
    "* [5. Szöveges cella](#5.-Szöveges-cella)\n",
    "* [6. Kódcella](#6.-Kódcella)\n",
    "* [7. Egyebek](#7.-Egyebek)"
   ]
  },
  {
   "cell_type": "markdown",
   "metadata": {},
   "source": [
    "## 1. Infók"
   ]
  },
  {
   "cell_type": "markdown",
   "metadata": {},
   "source": [
    "* [jupyter notebook docs](https://jupyter-notebook.readthedocs.io/en/stable/index.html)\n",
    "* [ipython docs](https://ipython.readthedocs.io/en/stable/index.html)\n",
    "* [hivatalos tutorial](http://nbviewer.jupyter.org/github/ipython/ipython/blob/3.x/examples/Notebook/Index.ipynb)"
   ]
  },
  {
   "cell_type": "markdown",
   "metadata": {},
   "source": [
    "## 2. Telepítés"
   ]
  },
  {
   "cell_type": "markdown",
   "metadata": {},
   "source": [
    "pip-pel:\n",
    "\n",
    "```sh\n",
    "pip install jupyter\n",
    "```\n",
    "\n",
    "vagy\n",
    "\n",
    "```sh\n",
    "pip3 install jupyter\n",
    "```\n",
    "\n",
    "conda-val:\n",
    "\n",
    "```sh\n",
    "conda install jupyter\n",
    "```\n",
    "\n",
    "Ezek elvileg telepítik az ipython-t is. Ha mégsem akkor `pip install ipython`, vagy `pip3 install ipython`, vagy `conda install ipython`."
   ]
  },
  {
   "cell_type": "markdown",
   "metadata": {},
   "source": [
    "## 3. Indítás"
   ]
  },
  {
   "cell_type": "markdown",
   "metadata": {},
   "source": [
    "Terminálban:\n",
    "\n",
    "```sh\n",
    "cd dirname\n",
    "jupyter notebook\n",
    "```\n",
    "\n",
    "Ez elindítja a jupyter notebook-ot a terminálban (kilépéshez: Ctrl + C) és nyit egy új tab-ot a böngészőben.\n",
    "Ez kb fájlkezelőként működik: létrehozhatunk új, vagy megnyithatunk, átnevezhetünk és törölhetünk régi notebookokat. A mentett notebook-ok megjelennek az adott könyvtárban is .ipynb kiterjesztésű fájlként."
   ]
  },
  {
   "cell_type": "markdown",
   "metadata": {},
   "source": [
    "## 4. Alapok"
   ]
  },
  {
   "cell_type": "markdown",
   "metadata": {},
   "source": [
    "Egy notebook cellákra oszlik. Az aktuális cella keretezéssel ki van emelve. Egy aktuális cellánál vagy szerkesztési módban vagyunk, vagy parancsmódban.\n",
    "\n",
    "Nem-szerkesztési módból átlépés szerkesztési módba: `Enter`.\n",
    "\n",
    "Szerkesztési módból átlépés nem-szerkesztési módba: `Esc`."
   ]
  },
  {
   "cell_type": "markdown",
   "metadata": {},
   "source": [
    "Nem-szerkesztési módban az alábbiakat tehetjük:\n",
    "\n",
    "* Új cella létrehozása az aktuális alatt: `B`\n",
    "* Új cella létrehozása az aktuális felett: `A`\n",
    "* Aktuális cella törlése: `X` (vágólapra helyezés)\n",
    "* Aktuális cella másolása: `C`\n",
    "* Vágólapon lévő cella beillesztése az aktuális alá: `V`\n",
    "* Keresés & csere: `Esc + F`\n",
    "* Segítség: `H` (minden elérhető parancsot megjelenít)"
   ]
  },
  {
   "cell_type": "markdown",
   "metadata": {},
   "source": [
    "Szerkesztési módban hagyományosan szerkeszthetünk, további lehetőségekhez l. `Esc H`."
   ]
  },
  {
   "cell_type": "markdown",
   "metadata": {},
   "source": [
    "A celláknak két alaptípusa van:\n",
    "\n",
    "1. Szöveges (Markdown, HTML, Latex)\n",
    "2. Futtatható kód (Python)"
   ]
  },
  {
   "cell_type": "markdown",
   "metadata": {},
   "source": [
    "Parancsmódban válthatunk a két típus között:\n",
    "\n",
    "* Szöveges $\\to$ Kód: `Y`\n",
    "* Kód $\\to$ Szöveges: `M`"
   ]
  },
  {
   "cell_type": "markdown",
   "metadata": {},
   "source": [
    "Mind a szöveges, mind a kód típusú cellákat `Ctrl+Enter`-rel lehet futtatni (akár szerkesztési, akár parancsmódban vagyunk)."
   ]
  },
  {
   "cell_type": "markdown",
   "metadata": {},
   "source": [
    "## 5. Szöveges cella"
   ]
  },
  {
   "cell_type": "markdown",
   "metadata": {},
   "source": [
    "A szöveges cellákban használhatunk Markdown-t, HTML-t és Latex-et is formázott szöveg előállítására."
   ]
  },
  {
   "cell_type": "markdown",
   "metadata": {},
   "source": [
    "### 5.1. Markdown"
   ]
  },
  {
   "cell_type": "markdown",
   "metadata": {},
   "source": [
    "* eredeti [markdown](https://daringfireball.net/projects/markdown/)\n",
    "* [GitHub Flavored Markdown](https://guides.github.com/features/mastering-markdown/)"
   ]
  },
  {
   "cell_type": "markdown",
   "metadata": {},
   "source": [
    "Címsorok:\n",
    "\n",
    "```\n",
    "# Heading 1\n",
    "\n",
    "## Heading 2\n",
    "\n",
    "### Heading 3\n",
    "\n",
    "#### Heading 4\n",
    "\n",
    "##### Heading 5\n",
    "```\n",
    "\n",
    "# Heading 1\n",
    "\n",
    "## Heading 2\n",
    "\n",
    "### Heading 3\n",
    "\n",
    "#### Heading 4\n",
    "\n",
    "##### Heading 5"
   ]
  },
  {
   "cell_type": "markdown",
   "metadata": {},
   "source": [
    "Számozott lista:\n",
    "\n",
    "```\n",
    "1. első\n",
    "2. második\n",
    "    1. kettő per á\n",
    "    2. kettő per bé\n",
    "        1. kettőbé per á\n",
    "```\n",
    "\n",
    "1. első\n",
    "2. második\n",
    "    1. kettő per á\n",
    "    2. kettő per bé\n",
    "        1. kettőbé per á"
   ]
  },
  {
   "cell_type": "markdown",
   "metadata": {},
   "source": [
    "Számozatlan lista:\n",
    "\n",
    "```\n",
    "* Valami\n",
    "* Valami más\n",
    "    * egyfelől\n",
    "    * másfelől\n",
    "        * de még ez is van\n",
    "```\n",
    "\n",
    "* Valami\n",
    "* Valami más\n",
    "    * egyfelől\n",
    "    * másfelől\n",
    "        * de még ez is van"
   ]
  },
  {
   "cell_type": "markdown",
   "metadata": {},
   "source": [
    "_dőlt_: `_dőlt_` vagy `*dőlt*`\n",
    "\n",
    "__félkövér__: `__félkövér__` vagy `**félkövér**`\n",
    "\n",
    "__*félkövér és dőlt*__: `__*félkövér és dőlt*__` vagy `**_félkövér és dőlt_**`\n",
    "\n",
    "[link](): `[szöveg](example.com)`"
   ]
  },
  {
   "cell_type": "markdown",
   "metadata": {},
   "source": [
    "`kód`: `` `kód` ``\n",
    "\n",
    "kódblokk:\n",
    "\n",
    "````\n",
    "```py\n",
    "def identity(x):\n",
    "    \"\"\"Returns the same value that was used as its argument.\n",
    "    \"\"\"\n",
    "    return x\n",
    "```\n",
    "````\n",
    "\n",
    "```py\n",
    "def identity(x):\n",
    "    \"\"\"Returns the same value that was used as its argument.\n",
    "    \"\"\"\n",
    "    return x\n",
    "```"
   ]
  },
  {
   "cell_type": "markdown",
   "metadata": {},
   "source": [
    "Táblázat:\n",
    "\n",
    "```\n",
    "| fej | léc |\n",
    "|-----|-----|\n",
    "| a   | 1   |\n",
    "| b   | 20  |\n",
    "| c   | 300 |\n",
    "```\n",
    "\n",
    "| fej | léc |\n",
    "|-----|-----|\n",
    "| a   | 1   |\n",
    "| b   | 20  |\n",
    "| c   | 300 |\n"
   ]
  },
  {
   "cell_type": "markdown",
   "metadata": {},
   "source": [
    "### 5.2. HTML"
   ]
  },
  {
   "cell_type": "markdown",
   "metadata": {},
   "source": [
    "Mivel a HTML részhalmaza a markdown-nak, tetszőleges HTML kód is írható.\n",
    "\n",
    "Pl. kép beillesztése:\n",
    "\n",
    "```\n",
    "<img src='http://jupyter.org/assets/main-logo.svg' />\n",
    "```\n",
    "<img src='http://jupyter.org/assets/main-logo.svg' />"
   ]
  },
  {
   "cell_type": "markdown",
   "metadata": {},
   "source": [
    "### 5.3. Latex"
   ]
  },
  {
   "cell_type": "markdown",
   "metadata": {},
   "source": [
    "Használhatjuk a Latex matametikai módját ([MathJax](https://www.mathjax.org/) alapon).\n",
    "\n",
    "Sorbeli képletek egyszeres dollárjelek között: `$e^{i\\pi} + 1 = 0$`-ből $e^{i\\pi} + 1 = 0$ lesz.\n",
    "\n",
    "Sorközi képletek dupla dollárjelek között:\n",
    "\n",
    "```\n",
    "$$e^{i\\pi} + 1 = 0$$\n",
    "```\n",
    "\n",
    "$$e^{i\\pi} + 1 = 0$$"
   ]
  },
  {
   "cell_type": "markdown",
   "metadata": {},
   "source": [
    "## 6. Kódcella"
   ]
  },
  {
   "cell_type": "markdown",
   "metadata": {},
   "source": [
    "A kódcellák alapvetően python kódot várnak, azt értelmezik / futtatják, a kimenetet pedig a cella alá írják.\n",
    "\n",
    "Az aktuálisan gépelt parancs automatikusan kiegészíthető `TAB`-bal.\n",
    "\n",
    "A kimenet elrejthető és előhívható parancsmódban `Esc + O`-val. Ha a parancs végére `;`-t teszünk, akkor a kimenet nem jelenik meg semilyen formában (printelés, plottolás igen)."
   ]
  },
  {
   "cell_type": "code",
   "execution_count": null,
   "metadata": {},
   "outputs": [],
   "source": [
    "print('print:', 10)\n",
    "10"
   ]
  },
  {
   "cell_type": "code",
   "execution_count": null,
   "metadata": {},
   "outputs": [],
   "source": [
    "print('print', 10);\n",
    "10;"
   ]
  },
  {
   "cell_type": "markdown",
   "metadata": {},
   "source": [
    "A standard python-hoz képest sok extra is be van építve, ami megkönnyíti a munkát. Ezek következnek alább."
   ]
  },
  {
   "cell_type": "markdown",
   "metadata": {},
   "source": [
    "### 6.1. Dokumentáció"
   ]
  },
  {
   "cell_type": "markdown",
   "metadata": {},
   "source": [
    "Az egyes objektumok dokumentációjához a nevük után írt `?` vagy `??` karakterekkel lehet hozzáférni. A `??` kiegészítő információkat is megjelenít, ha rendelkezésre állnak."
   ]
  },
  {
   "cell_type": "code",
   "execution_count": null,
   "metadata": {},
   "outputs": [],
   "source": [
    "# objektumok dokumnetációja 1.\n",
    "a = 10\n",
    "a?"
   ]
  },
  {
   "cell_type": "code",
   "execution_count": null,
   "metadata": {},
   "outputs": [],
   "source": [
    "# objektumok dokumnetációja 2.\n",
    "print?"
   ]
  },
  {
   "cell_type": "code",
   "execution_count": null,
   "metadata": {},
   "outputs": [],
   "source": [
    "# objektumok dokumnetációja 3.\n",
    "\n",
    "def fun():\n",
    "    '''Alaposan dokumentált függvény.\n",
    "    '''\n",
    "    return\n",
    "\n",
    "fun?"
   ]
  },
  {
   "cell_type": "code",
   "execution_count": null,
   "metadata": {},
   "outputs": [],
   "source": [
    "# az IPython dokumentációja\n",
    "?"
   ]
  },
  {
   "cell_type": "markdown",
   "metadata": {},
   "source": [
    "### 6.2. Magic"
   ]
  },
  {
   "cell_type": "markdown",
   "metadata": {},
   "source": [
    "`%`-kal kezdődnek a nem-standard python utasítások, amik az IPython-nak szólnak (_line magics_).\n",
    "\n",
    "`%%`-kal kezdődnek az egész cellákra vonatkozó nem-standard utasítások (_cell magics_).\n",
    "\n",
    "Elérhetők varázslatok listája: `%lsmagic` \n",
    "\n",
    "Teljes dokumentáció: `%magic`.\n",
    "\n",
    "Egyes varázslatok dokumentációja: `%<varázslat>?`\n",
    "\n",
    "Pár fontosabb _magic_:\n",
    "\n",
    "* `%run <script-name.py>`: külső fájl futtatása\n",
    "* `%load <url/script-name.py>`: külső kód betöltése a cellába\n",
    "* profilozás (`pip install line_profiler memory_profiler` kellhet, conda is tartalmazza ezeket):\n",
    "    * `%time <statement>`: futási idő mérése\n",
    "    * `%timeit <statement>`: futási idő mérése ismétléssel ([docs](https://docs.python.org/3/library/timeit.html))\n",
    "    * `%memit <statement>`: memóriahasználat\n",
    "    * `%prun <statement>`: kód futtatása profilozással (l. [Python Profilers](https://docs.python.org/3/library/profile.html), ill. `%prun?`)\n",
    "    * `%lprun`: uez soronként\n",
    "    * `%mprun`: soronkénti memóriahasználat\n",
    "* `%debug`: interaktív debug shell megnyitása ([pdb](https://docs.python.org/3/library/pdb.html), [ipdb github](https://github.com/gotcha/ipdb), [ipdb how-to](https://iqbalnaved.wordpress.com/2013/10/17/how-to-debug-in-ipython-using-ipdb/))\n",
    "* `%matplotlib`: plottolás\n",
    "* `%env`: környezeti változók belállítása (néhány library-nél -- pl. Theano -- kellhet)\n",
    "* `%%cython`: ha valaki [Cython](http://docs.cython.org/en/latest/) kódot szeretne írni notebookba.\n",
    "* `%autoreload`: modulok automatikus újratöltéséhez, fejlesztés közbeni teszteléshez hasznos (részletek [itt](http://ipython.readthedocs.io/en/stable/config/extensions/autoreload.html?highlight=autoreload))"
   ]
  },
  {
   "cell_type": "markdown",
   "metadata": {},
   "source": [
    "### 6.3. Shell"
   ]
  },
  {
   "cell_type": "markdown",
   "metadata": {},
   "source": [
    "* Shell parancsok jó részét lehet futtatni a `!` prefixel, pl. `!ls`.\n",
    "* Egész cella shell-esíthető a `%%bash` _cell magic_-kel.\n",
    "* A `!cd` parancs nem használható, helyette van `%cd` magic.\n",
    "* Van még pár parancs, ami magic-ként is elérhető: `%cat`, `%cd`, `%env`, `%ls`, `%man`, `%mkdir`, `%more`, `%mv`, `%pwd`, `%rm`, `%rmdir`. Ezek un. _automagic_-ek, ami azt jelenti, hogy `%` nélkül is hívhatók IPython shell-ben (notebook-ban alapból nem).\n",
    "* Python-változónak értékül adható shell-parancs kimenete SList-ként. Az SList saját property-kkel és metódusokkal bír, l. a [dokumentációt](http://ipython.readthedocs.io/en/stable/api/generated/IPython.utils.text.html#IPython.utils.text.SList).\n",
    "* Kapcsos zárójelben (`{}`) átadható Python-változó shell parancsnak."
   ]
  },
  {
   "cell_type": "code",
   "execution_count": null,
   "metadata": {},
   "outputs": [],
   "source": [
    "# Python-változónak értékadás shell parancs kimenetétvel\n",
    "var = !ls -a\n",
    "print(var)\n",
    "print()\n",
    "print(type(var))"
   ]
  },
  {
   "cell_type": "code",
   "execution_count": null,
   "metadata": {},
   "outputs": [],
   "source": [
    "# Python-változó átadása shell-parancsnak:\n",
    "var = \"hello\"\n",
    "!echo {var}"
   ]
  },
  {
   "cell_type": "markdown",
   "metadata": {},
   "source": [
    "## 7. Egyebek"
   ]
  },
  {
   "cell_type": "markdown",
   "metadata": {},
   "source": [
    "Big Data\n",
    "\n",
    "* [ipyparallel](https://github.com/ipython/ipyparallel)\n",
    "* [pyspark](https://spark.apache.org/docs/0.9.0/python-programming-guide.html) és [sparkmagic](https://github.com/jupyter-incubator/sparkmagic)"
   ]
  },
  {
   "cell_type": "markdown",
   "metadata": {},
   "source": [
    "Megosztás\n",
    "\n",
    "* [nbviewer](http://nbviewer.jupyter.org/): itt a megosztandó .ipynb fájl URL-jét kell beírni és az nbviever felületén meg lehet nézni a fájlt telepített jupyter nélkül is.\n",
    "* A [github.com](https://github.com) és a [gist.github.com](https://gist.github.com/) is rendesen megjeleníti az .ipynb fájlokat.\n",
    "* [mybinder](https://mybinder.org/)\n",
    "* [jupyterhub](https://jupyterhub.readthedocs.io/en/latest/)"
   ]
  },
  {
   "cell_type": "markdown",
   "metadata": {},
   "source": [
    "További lehetőségek\n",
    "\n",
    "* [extension](https://github.com/ipython-contrib/jupyter_contrib_nbextensions)-ök\n",
    "* prezentációhoz [RISE](https://github.com/damianavila/RISE) és [reveal.js](https://github.com/hakimel/reveal.js/)"
   ]
  }
 ],
 "metadata": {
  "kernelspec": {
   "display_name": "Python 3",
   "language": "python",
   "name": "python3"
  },
  "language_info": {
   "codemirror_mode": {
    "name": "ipython",
    "version": 3
   },
   "file_extension": ".py",
   "mimetype": "text/x-python",
   "name": "python",
   "nbconvert_exporter": "python",
   "pygments_lexer": "ipython3",
   "version": "3.6.3"
  }
 },
 "nbformat": 4,
 "nbformat_minor": 2
}
