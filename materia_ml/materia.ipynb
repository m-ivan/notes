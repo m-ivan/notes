{
 "cells": [
  {
   "cell_type": "markdown",
   "metadata": {
    "slideshow": {
     "slide_type": "slide"
    }
   },
   "source": [
    "# A gépi tanulás csodálatos világa\n",
    "\n",
    "--------\n",
    "\n",
    "Mittelholcz Iván & Simon Eszter"
   ]
  },
  {
   "cell_type": "markdown",
   "metadata": {
    "slideshow": {
     "slide_type": "slide"
    }
   },
   "source": [
    "# Vázlat\n",
    "\n",
    "1. Mi az?\n",
    "2. Hogyan működik?\n",
    "2. Mire lehet használni?\n",
    "3. Miért (most) lett ennyire felkapott?\n",
    "4. Mit hoz a jövő?"
   ]
  },
  {
   "cell_type": "markdown",
   "metadata": {
    "slideshow": {
     "slide_type": "slide"
    }
   },
   "source": [
    "# 1. Mi az a gépi tanulás?\n",
    "\n",
    "---"
   ]
  },
  {
   "cell_type": "markdown",
   "metadata": {
    "slideshow": {
     "slide_type": "slide"
    }
   },
   "source": [
    "# Mi az a mesterséges intelligencia (artificial intelligence, AI)?"
   ]
  },
  {
   "cell_type": "markdown",
   "metadata": {
    "slideshow": {
     "slide_type": "slide"
    }
   },
   "source": [
    "# $$2 × 2 =\\, ?$$"
   ]
  },
  {
   "cell_type": "markdown",
   "metadata": {
    "slideshow": {
     "slide_type": "slide"
    }
   },
   "source": [
    "<img alt=\"map\" src=\"img/map.svg\" style=\"width: 70%;\">"
   ]
  },
  {
   "cell_type": "markdown",
   "metadata": {
    "slideshow": {
     "slide_type": "slide"
    }
   },
   "source": [
    "# Mesterséges intelligencia (*artificial intelligence*, *AI*)\n",
    "\n",
    "Nehéz problémák megoldása, amire nincs egyértelmű szabály"
   ]
  },
  {
   "cell_type": "markdown",
   "metadata": {
    "slideshow": {
     "slide_type": "fragment"
    }
   },
   "source": [
    "Definíciós nyüglődés:\n",
    "\n",
    "* emberi vs. racionális\n",
    "* gondolkodás vs. cselekvés\n",
    "* általános vs. speciális"
   ]
  },
  {
   "cell_type": "markdown",
   "metadata": {
    "slideshow": {
     "slide_type": "fragment"
    }
   },
   "source": [
    "**tanulás**\n",
    "\n",
    "- példák vs. előre megadott szabályok"
   ]
  },
  {
   "cell_type": "markdown",
   "metadata": {
    "slideshow": {
     "slide_type": "slide"
    }
   },
   "source": [
    "![hanagyleszek](img/hanagyleszek.png)\n",
    "\n",
    "forrás: https://www.nng.com/hanagyleszek"
   ]
  },
  {
   "cell_type": "markdown",
   "metadata": {
    "slideshow": {
     "slide_type": "slide"
    }
   },
   "source": [
    "# Gépi tanulás (*machine learning*, *ML*)"
   ]
  },
  {
   "cell_type": "markdown",
   "metadata": {
    "slideshow": {
     "slide_type": "fragment"
    }
   },
   "source": [
    "- Nem mi írjuk a szabályokat, hanem a gép tanulja meg példák alapján"
   ]
  },
  {
   "cell_type": "markdown",
   "metadata": {
    "slideshow": {
     "slide_type": "fragment"
    }
   },
   "source": [
    "- Felügyelet nélküli gépi tanulás: a példák nincsenek felcímkézve (klaszterezés: erről nem lesz szó)"
   ]
  },
  {
   "cell_type": "markdown",
   "metadata": {
    "slideshow": {
     "slide_type": "fragment"
    }
   },
   "source": [
    "- Felügyelt gépi tanulás (*supervised learning*, *SL*): a példák fel vannak címkézve (osztályozás: erről lesz szó)\n",
    "  - kép: csivava vagy muffin"
   ]
  },
  {
   "cell_type": "markdown",
   "metadata": {
    "slideshow": {
     "slide_type": "slide"
    }
   },
   "source": [
    "<img alt=\"krumplik\" src=\"img/krumlpik.svg\" style=\"width: 70%;\" />"
   ]
  },
  {
   "cell_type": "markdown",
   "metadata": {
    "slideshow": {
     "slide_type": "slide"
    }
   },
   "source": [
    "# 2. Hogyan működik?\n",
    "\n",
    "---\n",
    "\n",
    "Kérdés: Mi ez a valami? (Muffin vagy csivava?)\n",
    "\n",
    "Ötlet: Nézzük meg az ismert tulajdonságait, és az alapján szeparáljuk az egyes osztályokat."
   ]
  },
  {
   "cell_type": "markdown",
   "metadata": {
    "slideshow": {
     "slide_type": "slide"
    }
   },
   "source": [
    "# Az írisz adatbázis (Fisher, 1936)\n",
    "\n",
    "- íriszek fajtái: *versicolor*, *setosa*, *virginica*\n",
    "- íriszek virágszirmai: *petal*, *sepal*\n",
    "  <img alt=\"iris\" src=\"https://s3.amazonaws.com/assets.datacamp.com/blog_assets/Machine+Learning+R/iris-machinelearning.png\" style=\"width: 70%;\">"
   ]
  },
  {
   "cell_type": "markdown",
   "metadata": {
    "slideshow": {
     "slide_type": "slide"
    }
   },
   "source": [
    "```\n",
    "sepal_length  sepal_width  petal_length  petal_width  species\n",
    "         5.1          3.5           1.4          0.2  setosa\n",
    "         4.9          3.0           1.4          0.2  setosa\n",
    "         4.7          3.2           1.3          0.2  setosa\n",
    "         ...          ...           ...          ...  ...\n",
    "         7.0          3.2           4.7          1.4  versicolor\n",
    "         6.4          3.2           4.5          1.5  versicolor\n",
    "         ...          ...           ...          ...  ...\n",
    "         7.1          3.0           5.9          2.1  virginica\n",
    "         5.8          2.7           5.1          2.9  virginica\n",
    "```"
   ]
  },
  {
   "cell_type": "markdown",
   "metadata": {
    "slideshow": {
     "slide_type": "slide"
    }
   },
   "source": [
    "<img alt=\"dim1\" src=\"img/dim1.svg\" style=\"width: 70%;\">"
   ]
  },
  {
   "cell_type": "markdown",
   "metadata": {
    "slideshow": {
     "slide_type": "slide"
    }
   },
   "source": [
    "<img alt=\"dim1\" src=\"img/dim2.svg\" style=\"width: 70%;\">"
   ]
  },
  {
   "cell_type": "markdown",
   "metadata": {
    "slideshow": {
     "slide_type": "slide"
    }
   },
   "source": [
    "# Több tulajdonság\n",
    "\n",
    "egy tulajdonság = egy dimenzió\n",
    "\n",
    "<table style=\"width:100%;\">\n",
    "<tr>\n",
    "<th>dimenzió</th>\n",
    "<th>pont</th>\n",
    "<th>távolság</th>\n",
    "</tr>\n",
    "<tr>\n",
    "<td>$1$</td>\n",
    "<td>$\\langle x \\rangle$</td>\n",
    "<td>$\\sqrt{(x_2 - x_1)^2}$ <span style=\"color: LightGrey;\">$= |x_1 - x_2|$</span></td>\n",
    "</tr>\n",
    "<tr>\n",
    "<td>$2$</td>\n",
    "<td>$\\langle x, y \\rangle$</td>\n",
    "<td>$\\sqrt{(x_2 - x_1)^2 + (y_2 - y_1)^2}$</td>\n",
    "</tr>\n",
    "<tr>\n",
    "<td>$3$</td>\n",
    "<td>$\\langle x, y, z \\rangle$</td>\n",
    "<td>$\\sqrt{(x_2 - x_1)^2 + (y_2 - y_1)^2 + (z_2 - z_1)^2}$</td>\n",
    "</tr>\n",
    "<tr>\n",
    "<td>$4$</td>\n",
    "<td>$...$</td>\n",
    "<td>$...$</td>\n",
    "</tr>\n",
    "<tr>\n",
    "<td>$\\vdots$</td>\n",
    "<td>$\\vdots$</td>\n",
    "<td>$\\vdots$</td>\n",
    "</tr>\n",
    "\n",
    "</table>"
   ]
  },
  {
   "cell_type": "markdown",
   "metadata": {
    "slideshow": {
     "slide_type": "slide"
    }
   },
   "source": [
    "# Folyamat\n",
    "\n",
    "1. tanítás: mutatunk ismert példákat (tulajdonságok + osztály): ábrázolás egy sokdimenziós térben\n",
    "2. modell: szeparátorok keresése\n",
    "3. használat: ismeretlen példák (csak tulajdonságok): szeparátorok alapján kitaláljuk az osztályt"
   ]
  },
  {
   "cell_type": "markdown",
   "metadata": {
    "slideshow": {
     "slide_type": "slide"
    }
   },
   "source": [
    "# 3. Mire lehet használni?\n",
    "\n",
    "---"
   ]
  },
  {
   "cell_type": "markdown",
   "metadata": {
    "slideshow": {
     "slide_type": "slide"
    }
   },
   "source": [
    "# Képfelismerés"
   ]
  },
  {
   "cell_type": "markdown",
   "metadata": {
    "slideshow": {
     "slide_type": "fragment"
    }
   },
   "source": [
    "- [hotdog / not hotdog](https://www.youtube.com/watch?v=vIci3C4JkL0)"
   ]
  },
  {
   "cell_type": "markdown",
   "metadata": {
    "slideshow": {
     "slide_type": "fragment"
    }
   },
   "source": [
    "- OCR"
   ]
  },
  {
   "cell_type": "markdown",
   "metadata": {
    "slideshow": {
     "slide_type": "fragment"
    }
   },
   "source": [
    "- arcfelismerés"
   ]
  },
  {
   "cell_type": "markdown",
   "metadata": {
    "slideshow": {
     "slide_type": "fragment"
    }
   },
   "source": [
    "- önvezető autók"
   ]
  },
  {
   "cell_type": "markdown",
   "metadata": {
    "slideshow": {
     "slide_type": "slide"
    }
   },
   "source": [
    "# Nyelvfeldolgozás"
   ]
  },
  {
   "cell_type": "markdown",
   "metadata": {
    "slideshow": {
     "slide_type": "fragment"
    }
   },
   "source": [
    "- beszédfelismerés"
   ]
  },
  {
   "cell_type": "markdown",
   "metadata": {
    "slideshow": {
     "slide_type": "fragment"
    }
   },
   "source": [
    "- szövegfeldolgozás\n",
    "  - szófajazonosítás\n",
    "  - tulajdonnév-felismerés\n",
    "  - érzelemdetekció"
   ]
  },
  {
   "cell_type": "markdown",
   "metadata": {
    "slideshow": {
     "slide_type": "fragment"
    }
   },
   "source": [
    "- gépi fordítás"
   ]
  },
  {
   "cell_type": "markdown",
   "metadata": {
    "slideshow": {
     "slide_type": "slide"
    }
   },
   "source": [
    "# Egyéb"
   ]
  },
  {
   "cell_type": "markdown",
   "metadata": {
    "slideshow": {
     "slide_type": "skip"
    }
   },
   "source": [
    "- spamszűrés"
   ]
  },
  {
   "cell_type": "markdown",
   "metadata": {
    "slideshow": {
     "slide_type": "fragment"
    }
   },
   "source": [
    "- keresés"
   ]
  },
  {
   "cell_type": "markdown",
   "metadata": {
    "slideshow": {
     "slide_type": "fragment"
    }
   },
   "source": [
    "- előrejelzés (árfolyam, közlekedés, meghibásodás)"
   ]
  },
  {
   "cell_type": "markdown",
   "metadata": {
    "slideshow": {
     "slide_type": "fragment"
    }
   },
   "source": [
    "- ajánlórendszer (pl. reklám, hírfolyam)"
   ]
  },
  {
   "cell_type": "markdown",
   "metadata": {
    "slideshow": {
     "slide_type": "fragment"
    }
   },
   "source": [
    "- IT biztonság, fraud detection"
   ]
  },
  {
   "cell_type": "markdown",
   "metadata": {
    "slideshow": {
     "slide_type": "slide"
    }
   },
   "source": [
    "# 4. Miért (most) lett elterjedt?\n",
    "\n",
    "---\n",
    "\n",
    "Mi a mélytanulás?"
   ]
  },
  {
   "cell_type": "markdown",
   "metadata": {
    "slideshow": {
     "slide_type": "slide"
    }
   },
   "source": [
    "# Neuron / Perceptron\n",
    "\n",
    "<img alt=\"neuron\" src=\"https://appliedgo.net/media/perceptron/neuron.png\" style=\"width: 80%;\">"
   ]
  },
  {
   "cell_type": "markdown",
   "metadata": {
    "slideshow": {
     "slide_type": "slide"
    }
   },
   "source": [
    "# Neurális hálózat\n",
    "\n",
    "<img alt=\"neuron\" src=\"https://cdn-images-1.medium.com/max/1200/1*Gh5PS4R_A5drl5ebd_gNrg@2x.png\" style=\"width: 80%;\">"
   ]
  },
  {
   "cell_type": "markdown",
   "metadata": {
    "slideshow": {
     "slide_type": "slide"
    }
   },
   "source": [
    "# Előnyök\n",
    "\n",
    "- tulajdonságok kiválasztása\n",
    "- párhuzamosíthatóság (GPU, mátrixszorzás)"
   ]
  },
  {
   "cell_type": "markdown",
   "metadata": {
    "slideshow": {
     "slide_type": "slide"
    }
   },
   "source": [
    "# Autoencoder\n",
    "\n",
    "<img alt=\"autoencoder\" style=\"width: 60%;\" src=\"https://upload.wikimedia.org/wikipedia/commons/3/37/Autoencoder_schema.png\">"
   ]
  },
  {
   "cell_type": "markdown",
   "metadata": {
    "slideshow": {
     "slide_type": "fragment"
    }
   },
   "source": [
    "- tömörítés"
   ]
  },
  {
   "cell_type": "markdown",
   "metadata": {
    "slideshow": {
     "slide_type": "fragment"
    }
   },
   "source": [
    "- zajszűrés"
   ]
  },
  {
   "cell_type": "markdown",
   "metadata": {
    "slideshow": {
     "slide_type": "slide"
    }
   },
   "source": [
    "# Álmodnak-e az androidok elektronikus bárányokkal? (*Deep Dream*)\n",
    "\n",
    "<img alt=\"felho\" src=\"https://4.bp.blogspot.com/-FPDgxlc-WPU/VYIV1bK50HI/AAAAAAAAAlw/YIwOPjoulcs/s1600/skyarrow.png\" style=\"width: 80%\">\n",
    "<img alt=\"reszletek\" src=\"https://3.bp.blogspot.com/-R15_fyB-ZpE/VYIV-Uu9iwI/AAAAAAAAAl4/o3heQNGpVRU/s1600/Funny-Animals.png\" style=\"width: 80%\">"
   ]
  },
  {
   "cell_type": "markdown",
   "metadata": {
    "slideshow": {
     "slide_type": "slide"
    }
   },
   "source": [
    "# Style Transfer\n",
    "\n",
    "<img alt=\"merge\" src=\"https://raw.githubusercontent.com/alexjc/neural-doodle/master/docs/Landscape_example.png\" style=\"widht: 80%;\">"
   ]
  },
  {
   "cell_type": "markdown",
   "metadata": {
    "slideshow": {
     "slide_type": "slide"
    }
   },
   "source": [
    "# Generative Adversarial Network (*GAN*)\n",
    "\n",
    "<img alt=\"merge\" src=\"https://cdn-images-1.medium.com/max/1600/0*2Smzp-1MDx2TTwU6.png\" style=\"widht: 80%;\">"
   ]
  },
  {
   "cell_type": "markdown",
   "metadata": {
    "slideshow": {
     "slide_type": "slide"
    }
   },
   "source": [
    "# GANPaint / GANBrush, DeepFake\n",
    "\n",
    "<img alt=\"merge\" src=\"https://www.analyticsindiamag.com/wp-content/uploads/2019/07/Changing-the-season-of-trees.png\" style=\"widht: 80%;\">"
   ]
  },
  {
   "cell_type": "markdown",
   "metadata": {
    "slideshow": {
     "slide_type": "slide"
    }
   },
   "source": [
    "# Hátrányok"
   ]
  },
  {
   "cell_type": "markdown",
   "metadata": {
    "slideshow": {
     "slide_type": "fragment"
    }
   },
   "source": [
    "* feketedoboz / interpretálhatatlan"
   ]
  },
  {
   "cell_type": "markdown",
   "metadata": {
    "slideshow": {
     "slide_type": "fragment"
    }
   },
   "source": [
    "* adatéhség"
   ]
  },
  {
   "cell_type": "markdown",
   "metadata": {
    "slideshow": {
     "slide_type": "fragment"
    }
   },
   "source": [
    "* átverhető"
   ]
  },
  {
   "cell_type": "markdown",
   "metadata": {
    "slideshow": {
     "slide_type": "slide"
    }
   },
   "source": [
    "# Átverhetőség\n",
    "\n",
    "<img alt=\"merge\" src=\"https://i0.wp.com/bdtechtalks.com/wp-content/uploads/2018/12/ai-adversarial-attack-stop-sign.png?resize=696%2C390&ssl=1\" style=\"widht: 80%;\">"
   ]
  },
  {
   "cell_type": "markdown",
   "metadata": {
    "slideshow": {
     "slide_type": "slide"
    }
   },
   "source": [
    "# Átverhetőség\n",
    "\n",
    "<img alt=\"merge\" src=\"https://i0.wp.com/bdtechtalks.com/wp-content/uploads/2018/12/ai-adversarial-attack-turtle.png?resize=696%2C394&ssl=1\" style=\"widht: 80%;\">"
   ]
  },
  {
   "cell_type": "markdown",
   "metadata": {
    "slideshow": {
     "slide_type": "slide"
    }
   },
   "source": [
    "# 5. Mit hoz a jövő?\n",
    "\n",
    "---\n",
    "\n",
    "Futurológia"
   ]
  },
  {
   "cell_type": "markdown",
   "metadata": {
    "slideshow": {
     "slide_type": "slide"
    }
   },
   "source": [
    "# Az öntudatra ébredt szingularitás\n",
    "\n",
    "<img alt=\"hal\" src=\"img/hal.svg.png\" style=\"width: 70%;\">"
   ]
  },
  {
   "cell_type": "markdown",
   "metadata": {
    "slideshow": {
     "slide_type": "slide"
    }
   },
   "source": [
    "# Etikai problémák"
   ]
  },
  {
   "cell_type": "markdown",
   "metadata": {
    "slideshow": {
     "slide_type": "fragment"
    }
   },
   "source": [
    "* Kit üssünk ma el?"
   ]
  },
  {
   "cell_type": "markdown",
   "metadata": {
    "slideshow": {
     "slide_type": "fragment"
    }
   },
   "source": [
    "* Kit engedjünk szabadlábra?"
   ]
  },
  {
   "cell_type": "markdown",
   "metadata": {
    "slideshow": {
     "slide_type": "fragment"
    }
   },
   "source": [
    "* Kinek adjunk hitelt?"
   ]
  },
  {
   "cell_type": "markdown",
   "metadata": {
    "slideshow": {
     "slide_type": "fragment"
    }
   },
   "source": [
    "* Mi legyen a szerzői jogokkal?"
   ]
  },
  {
   "cell_type": "markdown",
   "metadata": {
    "slideshow": {
     "slide_type": "slide"
    }
   },
   "source": [
    "# Elveszi a munkánkat!\n",
    "\n",
    "<img alt=\"hal\" src=\"img/lyon.jpg\" style=\"width: 80%;\">"
   ]
  },
  {
   "cell_type": "markdown",
   "metadata": {
    "slideshow": {
     "slide_type": "slide"
    }
   },
   "source": [
    "# Köszönjük a figyelmet!\n",
    "\n",
    "---"
   ]
  }
 ],
 "metadata": {
  "celltoolbar": "Slideshow",
  "kernelspec": {
   "display_name": "Python 3",
   "language": "python",
   "name": "python3"
  },
  "language_info": {
   "codemirror_mode": {
    "name": "ipython",
    "version": 3
   },
   "file_extension": ".py",
   "mimetype": "text/x-python",
   "name": "python",
   "nbconvert_exporter": "python",
   "pygments_lexer": "ipython3",
   "version": "3.7.4"
  }
 },
 "nbformat": 4,
 "nbformat_minor": 2
}
