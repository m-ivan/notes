{
 "cells": [
  {
   "cell_type": "markdown",
   "metadata": {
    "slideshow": {
     "slide_type": "skip"
    }
   },
   "source": [
    "# Vázlat\n",
    "\n",
    "1. Mi az?\n",
    "  - mest int.\n",
    "  - gépi tanulás\n",
    "  - felügyelt gépi tanulás\n",
    "2. Hogyan működik?\n",
    "  - dimenziók és terek\n",
    "  - tanulási fázis --> modell --> felhasználás\n",
    "    - példa: az írisz adatbázis\n",
    "2. Mire lehet használni?\n",
    "  - nlp, fordítás\n",
    "  - képfelismerés\n",
    "  - ajánlórendszer\n",
    "  - keresés\n",
    "  - tőzsde\n",
    "3. Miért (most) lett ennyire felkapott?\n",
    " - DL: mi az és hogy működik\n",
    " - előnyei (fícsörizálás, párhuzamosítás)\n",
    " - miért most? (gpu, tpu)\n",
    " - tanítási trükkök (alpha go - önmagán tanítás, google keresés)\n",
    " - autoencoder\n",
    " - generálás\n",
    " - veszélyek, átverhetőség\n",
    "4. Mit hoz a jövő?\n",
    " - öntudatraébredés, szingularitás vs abakusz (nem)\n",
    " - elveszi a munkánkat (el)"
   ]
  },
  {
   "cell_type": "markdown",
   "metadata": {
    "slideshow": {
     "slide_type": "slide"
    }
   },
   "source": [
    "# A gépi tanulás csodálatos világa\n",
    "\n",
    "--------\n",
    "\n",
    "Mittelholcz Iván & Simon Eszter"
   ]
  },
  {
   "cell_type": "markdown",
   "metadata": {
    "slideshow": {
     "slide_type": "slide"
    }
   },
   "source": [
    "# Vázlat\n",
    "\n",
    "1. Mi az?\n",
    "2. Hogyan működik?\n",
    "2. Mire lehet használni?\n",
    "3. Miért (most) lett ennyire felkapott?\n",
    "4. Mit hoz a jövő?"
   ]
  },
  {
   "cell_type": "markdown",
   "metadata": {
    "slideshow": {
     "slide_type": "slide"
    }
   },
   "source": [
    "# 1. Mi az a gépi tanulás?\n",
    "\n",
    "---"
   ]
  },
  {
   "cell_type": "markdown",
   "metadata": {
    "slideshow": {
     "slide_type": "slide"
    }
   },
   "source": [
    "# Mi az a mesterséges intelligencia (artificial intelligence, AI)?"
   ]
  },
  {
   "cell_type": "markdown",
   "metadata": {
    "slideshow": {
     "slide_type": "slide"
    }
   },
   "source": [
    "# $$2 × 2 =\\, ?$$"
   ]
  },
  {
   "cell_type": "markdown",
   "metadata": {
    "slideshow": {
     "slide_type": "slide"
    }
   },
   "source": [
    "<img alt=\"map\" src=\"img/map.svg\" style=\"width: 70%;\">"
   ]
  },
  {
   "cell_type": "markdown",
   "metadata": {
    "slideshow": {
     "slide_type": "slide"
    }
   },
   "source": [
    "# Mesterséges intelligencia (*artificial intelligence*, *AI*)\n",
    "\n",
    "Nehéz problémák megoldása, amire nincs egyértelmű szabály"
   ]
  },
  {
   "cell_type": "markdown",
   "metadata": {
    "slideshow": {
     "slide_type": "fragment"
    }
   },
   "source": [
    "* emberi vs. racionális\n",
    "* gondolkodás vs. cselekvés\n",
    "* általános vs. speciális"
   ]
  },
  {
   "cell_type": "markdown",
   "metadata": {
    "slideshow": {
     "slide_type": "fragment"
    }
   },
   "source": [
    "**tanulás**\n",
    "\n",
    "- példák vs. előre megadott szabályok"
   ]
  },
  {
   "cell_type": "markdown",
   "metadata": {
    "slideshow": {
     "slide_type": "slide"
    }
   },
   "source": [
    "![hanagyleszek](img/hanagyleszek.png)\n",
    "\n",
    "forrás: https://www.nng.com/hanagyleszek"
   ]
  },
  {
   "cell_type": "markdown",
   "metadata": {
    "slideshow": {
     "slide_type": "slide"
    }
   },
   "source": [
    "# Gépi tanulás (*machine learning*, *ML*)"
   ]
  },
  {
   "cell_type": "markdown",
   "metadata": {
    "slideshow": {
     "slide_type": "fragment"
    }
   },
   "source": [
    "- Nem mi írjuk a szabályokat, hanem a gép tanulja meg példák alapján"
   ]
  },
  {
   "cell_type": "markdown",
   "metadata": {
    "slideshow": {
     "slide_type": "fragment"
    }
   },
   "source": [
    "- Felügyelet nélküli gépi tanulás: a példák nincsenek felcímkézve (klaszterezés: erről nem lesz szó)"
   ]
  },
  {
   "cell_type": "markdown",
   "metadata": {
    "slideshow": {
     "slide_type": "fragment"
    }
   },
   "source": [
    "- Felügyelt gépi tanulás (*supervised learning*, *SL*): a példák fel vannak címkézve (osztályozás: erről lesz szó)\n",
    "  - kép: csivava vagy muffin"
   ]
  },
  {
   "cell_type": "markdown",
   "metadata": {
    "slideshow": {
     "slide_type": "slide"
    }
   },
   "source": [
    "<img alt=\"krumplik\" src=\"img/krumlpik.svg\" style=\"width: 70%;\" />"
   ]
  },
  {
   "cell_type": "markdown",
   "metadata": {
    "slideshow": {
     "slide_type": "slide"
    }
   },
   "source": [
    "# 2. Hogyan működik?\n",
    "\n",
    "---\n",
    "\n",
    "Kérdés: Mi ez a valami? (Muffin vagy csivava?)\n",
    "\n",
    "Ötlet: Nézzük meg az ismert tulajdonságait és az alapján szerparáljuk az egyes osztályokat."
   ]
  },
  {
   "cell_type": "markdown",
   "metadata": {
    "slideshow": {
     "slide_type": "slide"
    }
   },
   "source": [
    "# Az írisz adatbázis (Fisher, 1936)\n",
    "\n",
    "- íriszek fajtái: *setosa*, *versicolor*, *virginica*\n",
    "- íriszek virágszírmai: *petal*, *sepal*\n",
    "  <img alt=\"iris\" src=\"https://s3.amazonaws.com/assets.datacamp.com/blog_assets/Machine+Learning+R/iris-machinelearning.png\" style=\"width: 70%;\">"
   ]
  },
  {
   "cell_type": "markdown",
   "metadata": {
    "slideshow": {
     "slide_type": "slide"
    }
   },
   "source": [
    "```\n",
    "sepal_length  sepal_width  petal_length  petal_width  species\n",
    "         5.1          3.5           1.4          0.2  setosa\n",
    "         4.9          3.0           1.4          0.2  setosa\n",
    "         4.7          3.2           1.3          0.2  setosa\n",
    "         ...          ...           ...          ...  ...\n",
    "         7.0          3.2           4.7          1.4  versicolor\n",
    "         6.4          3.2           4.5          1.5  versicolor\n",
    "         ...          ...           ...          ...  ...\n",
    "         7.1          3.0           5.9          2.1  virginica\n",
    "         5.8          2.7           5.1          2.9  virginica\n",
    "```"
   ]
  },
  {
   "cell_type": "markdown",
   "metadata": {
    "slideshow": {
     "slide_type": "slide"
    }
   },
   "source": [
    "<img alt=\"dim1\" src=\"img/dim1.svg\" style=\"width: 70%;\">"
   ]
  },
  {
   "cell_type": "markdown",
   "metadata": {
    "slideshow": {
     "slide_type": "slide"
    }
   },
   "source": [
    "<img alt=\"dim1\" src=\"img/dim2.svg\" style=\"width: 70%;\">"
   ]
  },
  {
   "cell_type": "markdown",
   "metadata": {
    "slideshow": {
     "slide_type": "slide"
    }
   },
   "source": [
    "# Több tulajdonság\n",
    "\n",
    "egy tulajdonság = egy dimenzió\n",
    "\n",
    "<table style=\"width:100%;\">\n",
    "<tr>\n",
    "<th>dimenzió</th>\n",
    "<th>pont</th>\n",
    "<th>távolság</th>\n",
    "</tr>\n",
    "<tr>\n",
    "<td>$1$</td>\n",
    "<td>$\\langle x \\rangle$</td>\n",
    "<td>$\\sqrt{(x_2 - x_1)^2}$ <span style=\"color: LightGrey;\">$= |x_1 - x_2|$</span></td>\n",
    "</tr>\n",
    "<tr>\n",
    "<td>$2$</td>\n",
    "<td>$\\langle x, y \\rangle$</td>\n",
    "<td>$\\sqrt{(x_2 - x_1)^2 + (y_2 - y_1)^2}$</td>\n",
    "</tr>\n",
    "<tr>\n",
    "<td>$3$</td>\n",
    "<td>$\\langle x, y, z \\rangle$</td>\n",
    "<td>$\\sqrt{(x_2 - x_1)^2 + (y_2 - y_1)^2 + (z_2 - z_1)^2}$</td>\n",
    "</tr>\n",
    "<tr>\n",
    "<td>$4$</td>\n",
    "<td>$...$</td>\n",
    "<td>$...$</td>\n",
    "</tr>\n",
    "</table>"
   ]
  },
  {
   "cell_type": "markdown",
   "metadata": {
    "slideshow": {
     "slide_type": "slide"
    }
   },
   "source": [
    "# Folyamat\n",
    "\n",
    "1. tanítás: mutatunk ismert példákat (tulajdonságok + osztály): ábrázolás egy sokdimenziós térben\n",
    "2. modell: szerparátorok keresése\n",
    "3. használat: ismeretlen példák (csak tulajdonságok): szeparátorok alapján kitaláljuk az osztályt"
   ]
  },
  {
   "cell_type": "markdown",
   "metadata": {
    "slideshow": {
     "slide_type": "slide"
    }
   },
   "source": [
    "# 3. Mire lehet használni?\n",
    "\n",
    "---"
   ]
  },
  {
   "cell_type": "markdown",
   "metadata": {
    "slideshow": {
     "slide_type": "slide"
    }
   },
   "source": [
    "# Képfelismerés"
   ]
  },
  {
   "cell_type": "markdown",
   "metadata": {
    "slideshow": {
     "slide_type": "fragment"
    }
   },
   "source": [
    "- [hotdog / not hotdog](https://www.youtube.com/watch?v=vIci3C4JkL0)"
   ]
  },
  {
   "cell_type": "markdown",
   "metadata": {
    "slideshow": {
     "slide_type": "fragment"
    }
   },
   "source": [
    "- OCR"
   ]
  },
  {
   "cell_type": "markdown",
   "metadata": {
    "slideshow": {
     "slide_type": "fragment"
    }
   },
   "source": [
    "- arcfelismerés"
   ]
  },
  {
   "cell_type": "markdown",
   "metadata": {
    "slideshow": {
     "slide_type": "fragment"
    }
   },
   "source": [
    "- önvezető autók"
   ]
  },
  {
   "cell_type": "markdown",
   "metadata": {
    "slideshow": {
     "slide_type": "slide"
    }
   },
   "source": [
    "# Nyelvfeldolgozás"
   ]
  },
  {
   "cell_type": "markdown",
   "metadata": {
    "slideshow": {
     "slide_type": "fragment"
    }
   },
   "source": [
    "- beszédfelismerés"
   ]
  },
  {
   "cell_type": "markdown",
   "metadata": {
    "slideshow": {
     "slide_type": "fragment"
    }
   },
   "source": [
    "- szövegfelddolgozás\n",
    "  - szófaj azonosítás\n",
    "  - tulajdonnév felismerés\n",
    "  - érzelem detekció"
   ]
  },
  {
   "cell_type": "markdown",
   "metadata": {
    "slideshow": {
     "slide_type": "fragment"
    }
   },
   "source": [
    "- gépi fordítás"
   ]
  },
  {
   "cell_type": "markdown",
   "metadata": {
    "slideshow": {
     "slide_type": "fragment"
    }
   },
   "source": [
    "- chatbot"
   ]
  },
  {
   "cell_type": "markdown",
   "metadata": {
    "slideshow": {
     "slide_type": "slide"
    }
   },
   "source": [
    "# Egyéb"
   ]
  },
  {
   "cell_type": "markdown",
   "metadata": {
    "slideshow": {
     "slide_type": "skip"
    }
   },
   "source": [
    "- spamszűrés"
   ]
  },
  {
   "cell_type": "markdown",
   "metadata": {
    "slideshow": {
     "slide_type": "fragment"
    }
   },
   "source": [
    "- keresés"
   ]
  },
  {
   "cell_type": "markdown",
   "metadata": {
    "slideshow": {
     "slide_type": "fragment"
    }
   },
   "source": [
    "- előrejelzés (árfolyam, közlekedés, meghibásodás)"
   ]
  },
  {
   "cell_type": "markdown",
   "metadata": {
    "slideshow": {
     "slide_type": "fragment"
    }
   },
   "source": [
    "- ajánlórendszer (reklám, hírfolyam, stb.)"
   ]
  },
  {
   "cell_type": "markdown",
   "metadata": {
    "slideshow": {
     "slide_type": "fragment"
    }
   },
   "source": [
    "- biztonság, átverés azonosítás"
   ]
  },
  {
   "cell_type": "markdown",
   "metadata": {
    "slideshow": {
     "slide_type": "slide"
    }
   },
   "source": [
    "# 4. Miért (most) lett elterjedt?\n",
    "\n",
    "---\n",
    "\n",
    "**<span style=\"color: lightgrey;\">Mi a mélytanulás?</span>**"
   ]
  },
  {
   "cell_type": "markdown",
   "metadata": {
    "slideshow": {
     "slide_type": "slide"
    }
   },
   "source": [
    "# Neuron / Perceptron\n",
    "\n",
    "<img alt=\"neuron\" src=\"https://appliedgo.net/media/perceptron/neuron.png\" style=\"width: 80%;\">"
   ]
  },
  {
   "cell_type": "markdown",
   "metadata": {
    "slideshow": {
     "slide_type": "slide"
    }
   },
   "source": [
    "# Neurális hálózat\n",
    "\n",
    "<img alt=\"neuron\" src=\"https://upload.wikimedia.org/wikipedia/commons/4/46/Colored_neural_network.svg\" style=\"width: 60%;\">"
   ]
  },
  {
   "cell_type": "markdown",
   "metadata": {
    "slideshow": {
     "slide_type": "slide"
    }
   },
   "source": [
    "# Előnyök\n",
    "\n",
    "- tulajdonságok kiválasztása\n",
    "- párhuzamosíthatóság"
   ]
  },
  {
   "cell_type": "markdown",
   "metadata": {
    "slideshow": {
     "slide_type": "slide"
    }
   },
   "source": [
    "# Autoencoder\n",
    "\n",
    "<img alt=\"autoencoder\" style=\"width: 70%;\" src=\"https://upload.wikimedia.org/wikipedia/commons/3/37/Autoencoder_schema.png\">"
   ]
  },
  {
   "cell_type": "markdown",
   "metadata": {
    "slideshow": {
     "slide_type": "fragment"
    }
   },
   "source": [
    "- tömörítés"
   ]
  },
  {
   "cell_type": "markdown",
   "metadata": {
    "slideshow": {
     "slide_type": "fragment"
    }
   },
   "source": [
    "- zajmentesítés"
   ]
  }
 ],
 "metadata": {
  "celltoolbar": "Slideshow",
  "kernelspec": {
   "display_name": "Python 3",
   "language": "python",
   "name": "python3"
  },
  "language_info": {
   "codemirror_mode": {
    "name": "ipython",
    "version": 3
   },
   "file_extension": ".py",
   "mimetype": "text/x-python",
   "name": "python",
   "nbconvert_exporter": "python",
   "pygments_lexer": "ipython3",
   "version": "3.7.4"
  }
 },
 "nbformat": 4,
 "nbformat_minor": 2
}
