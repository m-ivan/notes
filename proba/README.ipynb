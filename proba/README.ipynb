{
 "cells": [
  {
   "cell_type": "markdown",
   "metadata": {},
   "source": [
    "# Teszt\n",
    "\n",
    "Itten tesztelodik az, hogy az ipynb-bol generalt markdown fajlokban a) megmaradnak-e a latex-es reszek, ill. b) hogy ezeket megjeleniti-e a github rendesen.\n",
    "\n",
    "Sor szintu keplet: \\\\(3+4=7\\\\)\n",
    "\n",
    "Keplet kulon sorban:\n",
    "\n",
    "\\\\[3+4=7\\\\]"
   ]
  }
 ],
 "metadata": {
  "kernelspec": {
   "display_name": "Python 3",
   "language": "python",
   "name": "python3"
  },
  "language_info": {
   "codemirror_mode": {
    "name": "ipython",
    "version": 3
   },
   "file_extension": ".py",
   "mimetype": "text/x-python",
   "name": "python",
   "nbconvert_exporter": "python",
   "pygments_lexer": "ipython3",
   "version": "3.7.4"
  }
 },
 "nbformat": 4,
 "nbformat_minor": 2
}
